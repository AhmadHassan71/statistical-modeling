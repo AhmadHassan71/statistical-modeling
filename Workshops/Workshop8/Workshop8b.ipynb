{
 "cells": [
  {
   "cell_type": "markdown",
   "metadata": {},
   "source": [
    "# Workshop 8: Polynomial Regression On Anscombe's dataset"
   ]
  },
  {
   "cell_type": "markdown",
   "metadata": {},
   "source": [
    "## Importing the libraries"
   ]
  },
  {
   "cell_type": "code",
   "execution_count": 2,
   "metadata": {},
   "outputs": [],
   "source": [
    "import numpy as np\n",
    "import pymc3 as pm\n",
    "import pandas as pd\n",
    "import matplotlib.pyplot as plt"
   ]
  },
  {
   "cell_type": "markdown",
   "metadata": {},
   "source": [
    "## Extracting the data and visualising it"
   ]
  },
  {
   "cell_type": "code",
   "execution_count": null,
   "metadata": {},
   "outputs": [],
   "source": [
    "ansc = sns.load_dataset('anscombe') # loading the dataset\n",
    "x_2 = ans[ans.group == 'II']['x'].values\n",
    "y_2 = ans[ans.group == 'II']['y'].values\n",
    "x_2 = x_2 - x_2.mean()\n",
    "plt.scatter(x_2, y_2)\n",
    "plt.xlabel('x')\n",
    "plt.ylabel('y', rotation=0)"
   ]
  }
 ],
 "metadata": {
  "kernelspec": {
   "display_name": "pm3bap",
   "language": "python",
   "name": "python3"
  },
  "language_info": {
   "codemirror_mode": {
    "name": "ipython",
    "version": 3
   },
   "file_extension": ".py",
   "mimetype": "text/x-python",
   "name": "python",
   "nbconvert_exporter": "python",
   "pygments_lexer": "ipython3",
   "version": "3.9.17"
  }
 },
 "nbformat": 4,
 "nbformat_minor": 2
}
